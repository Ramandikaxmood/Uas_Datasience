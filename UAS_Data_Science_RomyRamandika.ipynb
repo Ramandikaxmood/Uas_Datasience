{
 "cells": [
  {
   "cell_type": "markdown",
   "id": "388d51ac",
   "metadata": {},
   "source": [
    "# Ujian Akhir Semester - Data Science\n",
    "\n",
    "**Nama:** Romy Ramandika  \n",
    "**NIM:** 230401010260  \n",
    "**Kelas:** IF 405\n"
   ]
  },
  {
   "cell_type": "code",
   "execution_count": null,
   "id": "42266024",
   "metadata": {},
   "outputs": [],
   "source": [
    "import pandas as pd\n",
    "import matplotlib.pyplot as plt\n",
    "import seaborn as sns\n",
    "from sklearn.linear_model import LinearRegression\n",
    "from sklearn.cluster import KMeans\n",
    "from sklearn.preprocessing import StandardScaler\n",
    "from sklearn.model_selection import train_test_split\n",
    "from sklearn.ensemble import RandomForestClassifier\n",
    "from sklearn.metrics import classification_report, confusion_matrix\n",
    "import warnings\n",
    "warnings.filterwarnings('ignore')\n"
   ]
  },
  {
   "cell_type": "markdown",
   "id": "ba78b379",
   "metadata": {},
   "source": [
    "## Load dan Gabung Data"
   ]
  },
  {
   "cell_type": "code",
   "execution_count": null,
   "id": "a6651e07",
   "metadata": {},
   "outputs": [],
   "source": [
    "# Unduh file student-mat.csv dan student-por.csv dari https://archive.ics.uci.edu/static/public/320/student+performance.zip\n",
    "# Letakkan dalam direktori yang sama dengan notebook ini\n",
    "df_mat = pd.read_csv('student-mat.csv', sep=';')\n",
    "df_por = pd.read_csv('student-por.csv', sep=';')\n",
    "df = pd.concat([df_mat, df_por]).drop_duplicates().reset_index(drop=True)\n",
    "df.head()"
   ]
  },
  {
   "cell_type": "markdown",
   "id": "033b6d3a",
   "metadata": {},
   "source": [
    "## 1. EDA (Exploratory Data Analysis)"
   ]
  },
  {
   "cell_type": "code",
   "execution_count": null,
   "id": "f3104e3d",
   "metadata": {},
   "outputs": [],
   "source": [
    "df.info()"
   ]
  },
  {
   "cell_type": "code",
   "execution_count": null,
   "id": "7fa6a066",
   "metadata": {},
   "outputs": [],
   "source": [
    "df.describe()"
   ]
  },
  {
   "cell_type": "code",
   "execution_count": null,
   "id": "347a11a3",
   "metadata": {},
   "outputs": [],
   "source": [
    "df.isnull().sum()"
   ]
  },
  {
   "cell_type": "code",
   "execution_count": null,
   "id": "8dce88a2",
   "metadata": {},
   "outputs": [],
   "source": [
    "plt.figure(figsize=(12,8))\n",
    "sns.heatmap(df.corr(numeric_only=True), annot=True, cmap='coolwarm')\n",
    "plt.title('Correlation Heatmap')\n",
    "plt.show()"
   ]
  },
  {
   "cell_type": "markdown",
   "id": "a192bd0b",
   "metadata": {},
   "source": [
    "## 2. Regresi Linear: Study Time dan Failures terhadap G3"
   ]
  },
  {
   "cell_type": "code",
   "execution_count": null,
   "id": "b05be778",
   "metadata": {},
   "outputs": [],
   "source": [
    "X = df[['studytime', 'failures']]\n",
    "y = df['G3']\n",
    "model = LinearRegression()\n",
    "model.fit(X, y)\n",
    "y_pred = model.predict(X)\n",
    "plt.figure(figsize=(10,5))\n",
    "sns.scatterplot(x=df['studytime'], y=df['G3'], label='Asli')\n",
    "sns.lineplot(x=df['studytime'], y=model.predict(df[['studytime', 'failures']]), color='red', label='Regresi')\n",
    "plt.xlabel('Study Time')\n",
    "plt.ylabel('Nilai Akhir (G3)')\n",
    "plt.title('Regresi Linear - Study Time vs G3')\n",
    "plt.legend()\n",
    "plt.show()"
   ]
  },
  {
   "cell_type": "markdown",
   "id": "38545ac4",
   "metadata": {},
   "source": [
    "## 3. Clustering: Absensi dan Waktu Belajar"
   ]
  },
  {
   "cell_type": "code",
   "execution_count": null,
   "id": "7ea1e653",
   "metadata": {},
   "outputs": [],
   "source": [
    "features = df[['absences', 'studytime']]\n",
    "scaler = StandardScaler()\n",
    "scaled = scaler.fit_transform(features)\n",
    "kmeans = KMeans(n_clusters=3, random_state=42)\n",
    "df['cluster'] = kmeans.fit_predict(scaled)\n",
    "plt.figure(figsize=(10,6))\n",
    "sns.scatterplot(data=df, x='absences', y='studytime', hue='cluster', palette='viridis')\n",
    "plt.title('Clustering Berdasarkan Absensi dan Study Time')\n",
    "plt.show()"
   ]
  },
  {
   "cell_type": "markdown",
   "id": "307e82a5",
   "metadata": {},
   "source": [
    "## 4. Klasifikasi: Prediksi Kelulusan Berdasarkan 3 Variabel"
   ]
  },
  {
   "cell_type": "code",
   "execution_count": null,
   "id": "4f78425d",
   "metadata": {},
   "outputs": [],
   "source": [
    "# Anggap lulus jika G3 >= 10\n",
    "df['lulus'] = df['G3'].apply(lambda x: 1 if x >= 10 else 0)\n",
    "X = df[['studytime', 'failures', 'G1']]\n",
    "y = df['lulus']\n",
    "X_train, X_test, y_train, y_test = train_test_split(X, y, test_size=0.2, random_state=42)\n",
    "clf = RandomForestClassifier(random_state=42)\n",
    "clf.fit(X_train, y_train)\n",
    "y_pred = clf.predict(X_test)\n",
    "print(confusion_matrix(y_test, y_pred))\n",
    "print(classification_report(y_test, y_pred))"
   ]
  }
 ],
 "metadata": {},
 "nbformat": 4,
 "nbformat_minor": 5
}
